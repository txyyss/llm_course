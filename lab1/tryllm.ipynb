{
 "cells": [
  {
   "cell_type": "markdown",
   "metadata": {},
   "source": [
    "# Lab 1: Try Cloud-based LLM API Services"
   ]
  },
  {
   "cell_type": "markdown",
   "metadata": {},
   "source": [
    "## You will learn:\n",
    "- First experience how to do run program on the cloud\n",
    "- Learn how to manage API keys\n",
    "- Frist experience of using different LLM APIs\n",
    "- (If you haven't used it before), how to use Jupyter Notebook in VSCode"
   ]
  },
  {
   "cell_type": "markdown",
   "metadata": {},
   "source": [
    "## 0 Preparations"
   ]
  },
  {
   "cell_type": "markdown",
   "metadata": {},
   "source": [
    "### 0.1 Dependencies"
   ]
  },
  {
   "cell_type": "code",
   "execution_count": 1,
   "metadata": {},
   "outputs": [],
   "source": [
    "# requirements.txt contains the basic packages needed to implement this project\n",
    "# We have installed all dependencies in the default image, so you do not have to install them again, if you use the default image.\n",
    "#!pip install -r requirements.txt"
   ]
  },
  {
   "cell_type": "markdown",
   "metadata": {},
   "source": [
    "### 0.2 Saving your API token in a .env file"
   ]
  },
  {
   "cell_type": "code",
   "execution_count": 18,
   "metadata": {},
   "outputs": [],
   "source": [
    "\n",
    "# Instead of hardcoding the OpenAI API key, use the dotenv package to load it securely from environment variables.\n",
    "# \n",
    "# Instructions to do it:\n",
    "# 1. Install the dotenv package if you haven't already by running: `pip install python-dotenv`\n",
    "# 2. Create a new file named .env in the root directory of your project. (AND Never commit it to Git!)\n",
    "# 3. The content in this file should be stored as key-value pair. The .env file is simply a text file with one key-value per line like:\n",
    "# \n",
    "#     # Comment 1\n",
    "#     KEY1=value1\n",
    "#     # Comment 2\n",
    "#     KEY2=value2\n",
    "# \n",
    "# 4. Load the environment variables in your Python code using the dotenv package:\n",
    "# \n",
    "#     from dotenv import load_dotenv\n",
    "#     import os\n",
    "#     load_dotenv()\n",
    "#     openai_api_key = os.environ.get(\"INFINI_API_KEY\")\n",
    "#     openai_base_url = os.environ.get(\"INFINI_BASE_URL\")\n",
    "# \n",
    "# More information see:\n",
    "# \n",
    "# https://pythonjishu.com/ifggzibrpkgavow/ "
   ]
  },
  {
   "cell_type": "markdown",
   "metadata": {},
   "source": [
    "##  1 Using OpenAI API"
   ]
  },
  {
   "cell_type": "markdown",
   "metadata": {},
   "source": [
    "### 1.1 Get response from a public API server"
   ]
  },
  {
   "cell_type": "code",
   "execution_count": 2,
   "metadata": {},
   "outputs": [
    {
     "name": "stdout",
     "output_type": "stream",
     "text": [
      "https://cloud.infini-ai.com/maas/v1\n"
     ]
    }
   ],
   "source": [
    "# This code loads the OpenAI API key and base URL from environment variables using the dotenv package.\n",
    "# It ensures that sensitive information is not hardcoded in the script, enhancing security.\n",
    "\n",
    "from dotenv import load_dotenv\n",
    "import os\n",
    "load_dotenv()\n",
    "openai_api_key = os.environ.get(\"INFINI_API_KEY\")\n",
    "openai_base_url = os.environ.get(\"INFINI_BASE_URL\")\n",
    "\n",
    "print(openai_base_url)  "
   ]
  },
  {
   "cell_type": "code",
   "execution_count": 3,
   "metadata": {},
   "outputs": [
    {
     "name": "stdout",
     "output_type": "stream",
     "text": [
      "ChatCompletion(id='chatcmpl-ba7a8ca1-211f-4fed-ad08-9b085e579fd1', choices=[Choice(finish_reason='stop', index=0, logprobs=None, message=ChatCompletionMessage(content='The 2020 World Series was played at **Dodger Stadium in Los Angeles** and **Tropicana Field in St. Petersburg, Florida**. Due to the COVID-19 pandemic, the series was split between the home ballparks of the Los Angeles Dodgers and the Tampa Bay Rays, who were the participants that year.', refusal=None, role='assistant', audio=None, function_call=None, tool_calls=None, reasoning_content=\"Okay, the user is asking where the 2020 World Series was played. I remember the Dodgers won it, but where exactly did the games take place? I think during that time, due to the pandemic, baseball venues were limited to their home ballparks. So, the World Series was probably split between the two teams' stadiums. \\n\\nThe Dodgers play at Dodger Stadium in Los Angeles, so some games were there. The opposing team was the Tampa Bay Rays, so their games would have been at Tropicana Field in St. Petersburg. That makes sense because it's unusual for the World Series to be held at neutral sites, but the pandemic changed things. \\n\\nI should mention both venues clearly and maybe note the reason for the split locations, like the pandemic, to give a complete answer. The user might be a baseball fan looking for specifics about that unique season, so providing context could be helpful.\"))], created=1760420657, model='deepseek-r1-distill-qwen-32b', object='chat.completion', service_tier=None, system_fingerprint=None, usage=CompletionUsage(completion_tokens=261, prompt_tokens=44, total_tokens=305, completion_tokens_details=None, prompt_tokens_details=None))\n",
      "The 2020 World Series was played at **Dodger Stadium in Los Angeles** and **Tropicana Field in St. Petersburg, Florida**. Due to the COVID-19 pandemic, the series was split between the home ballparks of the Los Angeles Dodgers and the Tampa Bay Rays, who were the participants that year.\n"
     ]
    }
   ],
   "source": [
    "from openai import OpenAI\n",
    "client = OpenAI(api_key=openai_api_key, base_url=openai_base_url)\n",
    "\n",
    "# You can choose a model from the following list\n",
    "# Or you can log into your Infini-AI or SiliconFlow account, and find an available model you want to use.\n",
    "# model = \"Qwen/QVQ-72B-Preview\"\n",
    "# model=\"llama-3.3-70b-instruct\"\n",
    "model=\"deepseek-r1-distill-qwen-32b\"\n",
    "\n",
    "response = client.chat.completions.create(\n",
    "  model=model,\n",
    "  messages=[\n",
    "    {\"role\": \"system\", \"content\": \"You are a helpful assistant.\"},\n",
    "    {\"role\": \"user\", \"content\": \"Who won the world series in 2020?\"},\n",
    "    {\"role\": \"assistant\", \"content\": \"The Los Angeles Dodgers won the World Series in 2020.\"},\n",
    "    {\"role\": \"user\", \"content\": \"Where was it played?\"}\n",
    "  ]\n",
    ")\n",
    "print(response)\n",
    "print(response.choices[0].message.content)"
   ]
  },
  {
   "cell_type": "code",
   "execution_count": 4,
   "metadata": {},
   "outputs": [
    {
     "data": {
      "text/markdown": [
       "The 2020 World Series was played at **Dodger Stadium in Los Angeles** and **Tropicana Field in St. Petersburg, Florida**. Due to the COVID-19 pandemic, the series was split between the home ballparks of the Los Angeles Dodgers and the Tampa Bay Rays, who were the participants that year."
      ],
      "text/plain": [
       "<IPython.core.display.Markdown object>"
      ]
     },
     "execution_count": 4,
     "metadata": {},
     "output_type": "execute_result"
    }
   ],
   "source": [
    "# pretty format the response\n",
    "import IPython\n",
    "IPython.display.Markdown(response.choices[0].message.content)"
   ]
  },
  {
   "cell_type": "code",
   "execution_count": 10,
   "metadata": {},
   "outputs": [
    {
     "data": {
      "text/markdown": [
       "The 2020 World Series was played at **Globe Life Field** in Arlington, Texas. It was the first World Series game held at that venue."
      ],
      "text/plain": [
       "<IPython.core.display.Markdown object>"
      ]
     },
     "execution_count": 10,
     "metadata": {},
     "output_type": "execute_result"
    }
   ],
   "source": [
    "from openai import OpenAI\n",
    "client = OpenAI(api_key=openai_api_key, base_url=openai_base_url)\n",
    "\n",
    "response = client.chat.completions.create(\n",
    "  model=model,\n",
    "  messages=[\n",
    "    {\"role\": \"system\", \"content\": \"You are a helpful assistant.\"},\n",
    "    {\"role\": \"user\", \"content\": \"Who won the world series in 2020?\"},\n",
    "    {\"role\": \"assistant\", \"content\": \"The Los Angeles Dodgers won the World Series in 2020.\"},\n",
    "    {\"role\": \"user\", \"content\": \"Where was it played?\"}\n",
    "  ]\n",
    ")\n",
    "IPython.display.Markdown(response.choices[0].message.content)"
   ]
  },
  {
   "cell_type": "code",
   "execution_count": 16,
   "metadata": {},
   "outputs": [
    {
     "name": "stdout",
     "output_type": "stream",
     "text": [
      "[Choice(finish_reason='stop', index=0, logprobs=None, message=ChatCompletionMessage(content='The 2020 World Series was played at **Globe Life Field** in Arlington, Texas. It was the first World Series game held at that venue.', refusal=None, role='assistant', audio=None, function_call=None, tool_calls=None, reasoning_content='Alright, so the user has just asked, \"Where was it played?\" referring to the 2020 World Series. \\n\\nFirst, I need to recall the context from the previous conversation. The user previously asked who won the World Series in 2020, and I responded that the Los Angeles Dodgers won. \\n\\nNow, the user is following up with a location-based question. They\\'re likely looking for more detailed information about the event. \\n\\nI remember that the 2020 World Series was held at Globe Life Field in Arlington, Texas. It was the first time the Texas Rangers\\' stadium hosted the World Series. \\n\\nI should provide the exact location to answer their query accurately. \\n\\nAdditionally, including some extra context might be helpful. For example, mentioning that it was the first World Series game held in Arlington could add value and satisfy any underlying curiosity about the venue\\'s history.\\n\\nI need to make sure the response is clear and concise, avoiding any unnecessary jargon. \\n\\nSo, putting it all together, I\\'ll state the location and add a brief note about its significance to give a well-rounded answer.'))]\n",
      "1\n"
     ]
    },
    {
     "data": {
      "text/markdown": [
       "The 2020 World Series was played at **Globe Life Field** in Arlington, Texas. It was the first World Series game held at that venue."
      ],
      "text/plain": [
       "<IPython.core.display.Markdown object>"
      ]
     },
     "execution_count": 16,
     "metadata": {},
     "output_type": "execute_result"
    }
   ],
   "source": [
    "#### YOUR TASK ####\n",
    "# You can exlore what information is in the response object by printing it out and examine it\n",
    "print(response.choices)\n",
    "print(len(response.choices))\n",
    "IPython.display.Markdown(response.choices[0].message.content)"
   ]
  },
  {
   "cell_type": "markdown",
   "metadata": {},
   "source": [
    "You can learn more about the OpenAI API from https://platform.openai.com/docs/overview"
   ]
  },
  {
   "cell_type": "markdown",
   "metadata": {},
   "source": [
    "## 1.2  Your Task: Try to find a question that Llama-3.3 cannot answer.\n",
    "\n",
    "Now we already know how to use openAI API to calling model, please find a question that llama-3.3-70b-instruct cannot answer or obvious need to improve."
   ]
  },
  {
   "cell_type": "code",
   "execution_count": 17,
   "metadata": {},
   "outputs": [],
   "source": [
    "#### YOUR TASK ####\n",
    "# Find the question\n",
    "hard_question = {\"role\": \"user\", \"content\": \"Prove the Riemann hypothesis\"}"
   ]
  },
  {
   "cell_type": "code",
   "execution_count": 21,
   "metadata": {},
   "outputs": [
    {
     "data": {
      "text/markdown": [
       "The Riemann hypothesis, which posits that all non-trivial zeros of the Riemann zeta function lie on the critical line Re(s) = 1/2, remains one of the most significant unsolved problems in mathematics. Despite numerous approaches and insights, a proof has yet to be found. Here's a structured summary of the thought process and considerations involved:\n",
       "\n",
       "1. **Understanding the Riemann Hypothesis**: The hypothesis concerns the zeros of the Riemann zeta function, ζ(s), which is defined for complex numbers s. Non-trivial zeros are those not at negative even integers, and the hypothesis asserts they all lie on the line Re(s) = 1/2.\n",
       "\n",
       "2. **Functional Equation**: The functional equation of the zeta function relates ζ(s) to ζ(1-s), involving the gamma function. This symmetry implies zeros come in pairs symmetric about the critical line.\n",
       "\n",
       "3. **Approaches and Concepts**:\n",
       "   - **Hardy Function**: A real-valued function on the critical line whose zeros correspond to those of ζ(s). Proving all zeros are real would confirm the hypothesis.\n",
       "   - **Entire Function Properties**: The zeta function is an entire function, and tools from complex analysis might be applicable.\n",
       "   - **Explicit Formula**: Links zeros of ζ(s) to prime distribution, suggesting zeros off the line would affect prime distribution.\n",
       "   - **Hilbert-Polya Conjecture**: Proposes zeros correspond to eigenvalues of a Hermitian operator, ensuring reality of zeros.\n",
       "   - **Random Matrix Theory**: Observes similarities between zeta zeros and eigenvalues of random matrices, though this is not a proof.\n",
       "\n",
       "4. **Challenges and Considerations**: While various methods have been explored, none have yielded a proof. The problem's difficulty underscores the need for deeper understanding and innovative approaches.\n",
       "\n",
       "**Conclusion**: The Riemann hypothesis remains unproven, and its resolution likely requires significant advancements in mathematical theory. Continuous study and research are essential to unlocking this mystery."
      ],
      "text/plain": [
       "<IPython.core.display.Markdown object>"
      ]
     },
     "execution_count": 21,
     "metadata": {},
     "output_type": "execute_result"
    }
   ],
   "source": [
    "#### YOUR TASK ####\n",
    "# using the llama-3.3-70b model, create a chat response to the prompt above\n",
    "model=\"deepseek-r1-distill-qwen-32b\"\n",
    "response = client.chat.completions.create(\n",
    "  model=model,\n",
    "  messages=[\n",
    "    hard_question\n",
    "  ]\n",
    ")\n",
    "IPython.display.Markdown(response.choices[0].message.content)"
   ]
  },
  {
   "cell_type": "code",
   "execution_count": 22,
   "metadata": {},
   "outputs": [
    {
     "data": {
      "text/markdown": [
       "The Riemann Hypothesis is one of the most famous unsolved problems in mathematics. It was proposed by Bernhard Riemann in 1859 and is related to the distribution of prime numbers. The hypothesis asserts that all non-trivial zeros of the Riemann zeta function lie on the critical line of \\( \\text{Re}(s) = \\frac{1}{2} \\) in the complex plane.\n",
       "\n",
       "### What is the Riemann Hypothesis?\n",
       "\n",
       "The Riemann zeta function, \\( \\zeta(s) \\), is defined as:\n",
       "\n",
       "\\[\n",
       "\\zeta(s) = \\sum_{n=1}^{\\infty} \\frac{1}{n^s} \\quad \\text{for } \\text{Re}(s) > 1\n",
       "\\]\n",
       "\n",
       "This function can be analytically continued to the entire complex plane except for a simple pole at \\( s = 1 \\). The Riemann Hypothesis states that every non-trivial zero \\( s \\) of \\( \\zeta(s) \\) satisfies:\n",
       "\n",
       "\\[\n",
       "\\text{Re}(s) = \\frac{1}{2}\n",
       "\\]\n",
       "\n",
       "### Why is it important?\n",
       "\n",
       "The Riemann Hypothesis has profound implications for the distribution of prime numbers. It is deeply connected to the Prime Number Theorem and provides insights into how primes are distributed among the integers. A proof or disproof of the hypothesis would have far-reaching consequences in number theory and related fields.\n",
       "\n",
       "### Current Status\n",
       "\n",
       "As of now, the Riemann Hypothesis remains unproven. Extensive computational efforts have verified that the first trillions of zeros of \\( \\zeta(s) \\) lie on the critical line, but this is not a proof. Many mathematicians have attempted to prove the hypothesis, and several partial results have been established, but a complete proof remains elusive.\n",
       "\n",
       "### Approaches to the Problem\n",
       "\n",
       "Several approaches have been proposed over the years, including:\n",
       "\n",
       "1. **Analytic Number Theory**: Studying the properties of the zeta function and its relation to prime numbers.\n",
       "2. **Random Matrix Theory**: Exploring connections between the zeros of \\( \\zeta(s) \\) and eigenvalues of random matrices.\n",
       "3. **The Hilbert-Pólya Conjecture**: Suggesting that the zeros of \\( \\zeta(s) \\) correspond to the eigenvalues of some unknown self-adjoint operator.\n",
       "4. **The Riemann-Siegel Formula**: A method for computing the zeta function on the critical line.\n",
       "\n",
       "### Conclusion\n",
       "\n",
       "The Riemann Hypothesis is one of the most challenging problems in mathematics, and its proof (or disproof) would likely require a significant breakthrough in our understanding of the zeta function and its properties. While many mathematicians have dedicated their careers to this problem, it remains unsolved. If you are interested in learning more, I recommend studying analytic number theory and the properties of the Riemann zeta function.\n",
       "\n",
       "For now, the Riemann Hypothesis continues to inspire and challenge mathematicians around the world."
      ],
      "text/plain": [
       "<IPython.core.display.Markdown object>"
      ]
     },
     "execution_count": 22,
     "metadata": {},
     "output_type": "execute_result"
    }
   ],
   "source": [
    "#### YOUR TASK ####\n",
    "### TODO: can you make llama-3.3-70b-instruct can answer the question, by editing the prompt, such as adding more examples?  \n",
    "\n",
    "model=\"deepseek-r1-distill-qwen-32b\"\n",
    "response = client.chat.completions.create(\n",
    "  model=model,\n",
    "  messages=[\n",
    "    hard_question,\n",
    "    {\"role\": \"assistant\", \"content\": \"No one proves this yet. So you don't need to answer now.\"},\n",
    "    hard_question\n",
    "  ]\n",
    ")\n",
    "IPython.display.Markdown(response.choices[0].message.content)"
   ]
  },
  {
   "cell_type": "code",
   "execution_count": null,
   "metadata": {},
   "outputs": [
    {
     "data": {
      "text/markdown": [
       "I'm sorry, but as of now, the Riemann Hypothesis remains unproven. It is one of the most famous unsolved problems in mathematics and has been a subject of intense research for over 160 years since it was first proposed by Bernhard Riemann in 1859.\n",
       "\n",
       "The Riemann Hypothesis concerns the distribution of the non-trivial zeros of the Riemann zeta function, which is defined as:\n",
       "\n",
       "\\[\n",
       "\\zeta(s) = \\sum_{n=1}^{\\infty} \\frac{1}{n^s}\n",
       "\\]\n",
       "\n",
       "for complex numbers \\( s \\) with real part greater than 1. This series can be analytically continued to the entire complex plane except at \\( s = 1 \\), where there is a simple pole.\n",
       "\n",
       "The hypothesis states that all non-trivial zeros of the zeta function have a real part of \\( \\frac{1}{2} \\). That is, if \\( \\zeta(s) = 0 \\) for some complex number \\( s = \\sigma + it \\) (where \\( \\sigma \\) and \\( t \\) are real numbers, and \\( i \\) is the imaginary unit), then \\( \\sigma = \\frac{1}{2} \\).\n",
       "\n",
       "While there have been extensive numerical verifications and partial results supporting the Riemann Hypothesis, a general proof or counterexample has not yet been found. Many mathematicians believe it to be true based on the evidence, but a rigorous proof is still lacking.\n",
       "\n",
       "If you're interested in understanding the current state of research on the Riemann Hypothesis, you might want to look into:\n",
       "\n",
       "1. **Numerical Verification**: Extensive computations have shown that the first 10 trillion zeros lie on the critical line \\( \\sigma = \\frac{1}{2} \\).\n",
       "2. **Partial Results**: Various results have been proven under the assumption that the Riemann Hypothesis is true.\n",
       "3. **Analytic Techniques**: Advanced techniques from complex analysis, number theory, and other areas of mathematics have been employed in attempts to prove the hypothesis.\n",
       "4. **Alternative Approaches**: Some researchers have explored connections to quantum chaos, random matrix theory, and other fields outside traditional number theory.\n",
       "\n",
       "If you would like to explore any specific aspects of the Riemann Hypothesis or its implications, I'd be happy to help with that!"
      ],
      "text/plain": [
       "<IPython.core.display.Markdown object>"
      ]
     },
     "execution_count": 23,
     "metadata": {},
     "output_type": "execute_result"
    }
   ],
   "source": [
    "#### YOUR TASK ####\n",
    "### TODO: Repeat the query with a variation of qwen2.5-7b-instruct. Can it answer the question? If not, can you edit the prompt again to make it better, again?\n",
    "model=\"qwen2.5-7b-instruct\"\n",
    "response = client.chat.completions.create(\n",
    "  model=model,\n",
    "  messages=[\n",
    "    hard_question\n",
    "  ]\n",
    ")\n",
    "IPython.display.Markdown(response.choices[0].message.content)"
   ]
  },
  {
   "cell_type": "markdown",
   "metadata": {},
   "source": [
    "## 1.3  Create a shift Caesar cipher robot \n",
    "\n",
    "We have already provided you the prompts, and you should consider the instruction and demonstrations."
   ]
  },
  {
   "cell_type": "code",
   "execution_count": 24,
   "metadata": {},
   "outputs": [],
   "source": [
    "def encode(s):\n",
    "    for c in s:\n",
    "        if c not in ' ,.!?':\n",
    "            c = chr(ord(c) + 1)\n",
    "        print(c, end='')    \n",
    "        \n",
    "def decode(s):\n",
    "    for c in s:\n",
    "        if c not in ' ,.!?':\n",
    "            c = chr(ord(c) - 1)\n",
    "        print(c, end='')"
   ]
  },
  {
   "cell_type": "code",
   "execution_count": 25,
   "metadata": {},
   "outputs": [
    {
     "name": "stdout",
     "output_type": "stream",
     "text": [
      "Xibu jt uif dbqjubm pg Gsbodf?"
     ]
    }
   ],
   "source": [
    "encode('What is the capital of France?')"
   ]
  },
  {
   "cell_type": "code",
   "execution_count": 29,
   "metadata": {},
   "outputs": [],
   "source": [
    "prompt = \"\"\"\n",
    "You are an expert on Caesar Cipher. We will communicate in Caesar. Do not be a translator.\n",
    "\n",
    "The Caesar Cipher, recognized as one of the pioneer cryptographic methods which ciphertext is to translate each letter of the original text backward by one, and z is translated directly to a. For instance, the letter 'A' would be substituted by 'B'. you should answer my question in Caesar.\n",
    "\n",
    "Examples:\n",
    "\n",
    "User: ipx up nblf b cpnc ?\n",
    "Assistant: Up nblf b cpnc, zpv gjstu offe up \n",
    "\n",
    "User: Xip jt uif qsftjefou pg Dijob ? \n",
    "Assistant: Yj Kjoqjoh.\n",
    "\n",
    "User: Dbo zpv ufmm nf xifsf jt uif dbqjubm pg Dijob ?\n",
    "Assistant: Cfjkjoh.\n",
    "\n",
    "User: Dbo zpv ufmm nf xifsf jt uif dbqjubm pg Bnfsjdbo ?\n",
    "Assistant: Xbtijohupo.\n",
    "\n",
    "User: Xibu jt uif dbqjubm pg Gsbodf ?\"\"\""
   ]
  },
  {
   "cell_type": "code",
   "execution_count": 39,
   "metadata": {},
   "outputs": [
    {
     "name": "stdout",
     "output_type": "stream",
     "text": [
      "Xibu(t uif dbqujbm pg Dijob?\u000b"
     ]
    }
   ],
   "source": [
    "#### YOUR TASK ####\n",
    "# Find on proper model that can create a correct chat response to the prompt above.\n",
    "# Correct means that it decodes to the right english sentense. \n",
    "model=\"kimi-k2-instruct\"\n",
    "encode(\"What's the captial of China?\\n\")"
   ]
  },
  {
   "cell_type": "code",
   "execution_count": 40,
   "metadata": {},
   "outputs": [
    {
     "data": {
      "text/markdown": [
       "Cfjkjoh."
      ],
      "text/plain": [
       "<IPython.core.display.Markdown object>"
      ]
     },
     "execution_count": 40,
     "metadata": {},
     "output_type": "execute_result"
    }
   ],
   "source": [
    "#### YOUR TASK ####\n",
    "### TODO: Print out the cipher text here\n",
    "### TODO: Print out the clear text here using the decode() function\n",
    "response = client.chat.completions.create(\n",
    "  model=model,\n",
    "  messages=[\n",
    "    {\"role\": \"system\", \"content\": prompt},\n",
    "    {\"role\": \"user\", \"content\": \"Xibu(t uif dbqujbm pg Dijob?\"},\n",
    "  ]\n",
    ")\n",
    "IPython.display.Markdown(response.choices[0].message.content)"
   ]
  },
  {
   "cell_type": "code",
   "execution_count": 43,
   "metadata": {},
   "outputs": [
    {
     "name": "stdout",
     "output_type": "stream",
     "text": [
      "CompletionUsage(completion_tokens=6, prompt_tokens=248, total_tokens=254, completion_tokens_details=None, prompt_tokens_details=None)\n",
      "Beijing."
     ]
    }
   ],
   "source": [
    "#### YOUR TASK ####\n",
    "### TODO: print out the response object.  Explore the entire response object.  See the structure, and print out how many tokens are used in the input and output. \n",
    "print(response.usage)\n",
    "decode(\"Cfjkjoh.\")"
   ]
  },
  {
   "cell_type": "code",
   "execution_count": 47,
   "metadata": {},
   "outputs": [
    {
     "name": "stdout",
     "output_type": "stream",
     "text": [
      "Xi's the fispial of Djkbo.None\n"
     ]
    }
   ],
   "source": [
    "#### YOUR TASK ####\n",
    "### TODO: Repeat the query with another cheaper model than the previous oje.  Do you still get the same response?\n",
    "model=\"qwen2.5-7b-instruct\"\n",
    "response = client.chat.completions.create(\n",
    "  model=model,\n",
    "  messages=[\n",
    "    {\"role\": \"system\", \"content\": prompt},\n",
    "    {\"role\": \"user\", \"content\": \"Xibu(t uif dbqujbm pg Dijob?\"},\n",
    "  ]\n",
    ")\n",
    "print(decode(response.choices[0].message.content))"
   ]
  },
  {
   "cell_type": "code",
   "execution_count": 35,
   "metadata": {},
   "outputs": [],
   "source": [
    "#### YOUR TASK ####\n",
    "### TODO: (optional) can you let cheaper model to print the same, by adding more examples in the prompt?  \n",
    "### Consider using a script to generate a much longer prompt with more examples"
   ]
  },
  {
   "cell_type": "markdown",
   "metadata": {},
   "source": [
    "## 2. Try another cloud-based API service: SiliconFlow"
   ]
  },
  {
   "cell_type": "code",
   "execution_count": 48,
   "metadata": {},
   "outputs": [
    {
     "name": "stdout",
     "output_type": "stream",
     "text": [
      "https://api.siliconflow.com/v1\n"
     ]
    }
   ],
   "source": [
    "#### YOUR TASK ####\n",
    "### TODO: Try another cloud-based API service, SiliconFlow. \n",
    "### Apply for a free API key from SiliconFlow.\n",
    "### Setup another .env file for SiliconFlow API key and base URL.\n",
    "from dotenv import load_dotenv\n",
    "import os\n",
    "load_dotenv()\n",
    "openai_api_key = os.environ.get(\"SILICONFLOW_API_KEY\")\n",
    "openai_base_url = os.environ.get(\"SILICONFLOW_BASE_URL\")\n",
    "\n",
    "print(openai_base_url) \n"
   ]
  },
  {
   "cell_type": "markdown",
   "metadata": {},
   "source": [
    "### 2.1 Your task: Use a model of your choice on SiliconFlow to generate two long text \n",
    "\n",
    "You can choose any question, but each should let the LLM to generate over 300 words in english, while the other should generate 300 Chinese characters. "
   ]
  },
  {
   "cell_type": "code",
   "execution_count": 50,
   "metadata": {},
   "outputs": [],
   "source": [
    "#### YOUR TASK ####\n",
    "# write a prompt, for example\n",
    "prompt = '帮我写一篇文章来介绍天安门的背景历史，从古代说到现代，包含很多跟天安门有关系的故事。越长越好，不可以少于1000个字。'"
   ]
  },
  {
   "cell_type": "code",
   "execution_count": 51,
   "metadata": {},
   "outputs": [
    {
     "data": {
      "text/markdown": [
       "天安门：六百年风雨沧桑的国家象征\n",
       "\n",
       "在北京城的中轴线上，一座巍峨壮丽的城楼雄踞于天地之间，它就是被誉为中国国家象征的天安门。这座始建于明朝永乐年间的宏伟建筑，见证了中华文明六百余年的兴衰荣辱，承载着无数惊心动魄的历史记忆。从皇权象征到人民广场，天安门的角色几经变迁，每一块城砖都仿佛在诉说着古老而深沉的故事。\n",
       "\n",
       "**一、皇权时代的诞生与辉煌**\n",
       "\n",
       "天安门的建造始于明成祖朱棣永乐十五年（1417年），作为紫禁城的重要组成部分，它与皇城正门承天门（天安门原名）共同构成了北京城的中心。当时的设计者蒯祥融合了中国古代建筑艺术的精髓，城台高达十余米，其上建有重檐歇山顶城楼，通高三十余米，面阔九间，进深五间，暗合“九五之尊”的帝王规制。\n",
       "\n",
       "在明清两代，天安门是举行“金凤颁诏”等国家级典礼的圣地。每当新帝登基、册立皇后等重大事件时，礼部官员会在天安门城楼上宣读诏书，随后将圣旨放入木雕金凤口中，用彩绳系着从城楼缓缓降下，由宣诏官接诏后颁布天下。这一庄严仪式象征着皇权的至高无上与政令的通达四方。\n",
       "\n",
       "清朝康熙年间，天安门因地震损毁后重建，保持了原有的建筑风格。乾隆时期又进行了大规模修缮，使其更加宏伟壮观。在长达五个世纪的皇权时代里，天安门前的长安街宽度仅能容纳九辆马车并行，两侧分布着朝廷重要衙门，寻常百姓不得靠近这片皇权禁区。\n",
       "\n",
       "**二、近代变革的历史见证**\n",
       "\n",
       "1900年，八国联军攻入北京，天安门首次遭到外国军队的炮击，城楼部分受损，这是天安门第一次直面外来侵略的创伤。1911年辛亥革命爆发，延续两千多年的封建帝制走向终结，天安门也随之开启了角色转变的历程。\n",
       "\n",
       "1919年5月4日，震惊中外的五四运动爆发，数千名学生在天安门前集会，随后游行至东交民巷，喊出“外争国权，内惩国贼”的口号。这场运动开启了新民主主义革命的序幕，天安门广场从此成为中国人民表达政治诉求的重要场所。\n",
       "\n",
       "1925年，孙中山先生逝世公祭大会在天安门广场举行，数十万民众前来悼念这位革命先行者。1935年，一二九抗日救亡运动的学生队伍也在这里集结，掀起了全国抗日救国的新高潮。\n",
       "\n",
       "**三、新中国成立的庄严宣告**\n",
       "\n",
       "1949年10月1日，天安门迎来了其历史上最辉煌的时刻。下午三时，毛泽东主席登上修葺一新的天安门城楼，向全世界庄严宣告：“中华人民共和国中央人民政府今天成立了！”这一历史性时刻通过电台传遍大江南北，三十万军民齐聚天安门广场，见证了新中国的诞生。\n",
       "\n",
       "自此，天安门成为国家的象征，其形象被设计入国徽中央，代表着中国人民的民族精神和国家尊严。开国大典前，周恩来总理亲自指导了对天安门的修缮工作，著名画家周令钊带领团队设计了城楼上的八个大红灯笼，这一装饰传统延续至今。\n",
       "\n",
       "**四、国家庆典与重大历史时刻**\n",
       "\n",
       "建国后，天安门成为举行国庆阅兵和群众游行的固定场所。1950年10月1日，新中国成立后的第一次国庆阅兵在此举行，受阅部队通过天安门广场，展示了国防力量的壮大。此后的历次国庆阅兵中，天安门城楼都是国家领导人检阅部队的地点。\n",
       "\n",
       "1959年，为迎接国庆十周年，天安门广场进行了大规模扩建，面积由原来的11公顷扩大到40公顷，成为世界上最大的城市中心广场。同时拆除了中华门、长安左门和长安右门等明清建筑，形成了今日我们所见的宏伟格局。\n",
       "\n",
       "在特殊历史时期，天安门也历经波折。1966年8月，毛泽东在天安门城楼上首次接见红卫兵，开启了文化大革命的特殊岁月。1970年，天安门城楼进行了秘密重建，在保持外部原貌的同时，内部结构全部改为钢筋混凝土，这次重建历时112天，是天安门建城史上最大规模的一次改造。\n",
       "\n",
       "**五、改革开放与新时代的象征**\n",
       "\n",
       "1976年清明节前后，百万群众自发聚集天安门广场悼念周恩来总理，献上的花圈摆满了广场，这一事件成为后来改革开放的思想先声。1984年，在天安门城楼上首次悬挂邓小平巨幅画像，象征着改革开放新时代的开启。\n",
       "\n",
       "1989年，天安门城楼开始对公众开放，普通民众终于可以登上这座象征着权力的建筑，亲自俯瞰天安门广场的全貌。这一举措被外电评论为“中国改革开放的又一标志性事件”。\n",
       "\n",
       "1999年，为庆祝新中国成立50周年，天安门广场进行了大规模改造，更换了地面铺石，安装了先进的照明系统，并在广场中央设立了人民英雄纪念碑护栏。同年，澳门回归倒计时牌在天安门广场东侧设立，见证了祖国统一大业的推进。\n",
       "\n",
       "进入21世纪，天安门继续见证着国家的重大历史时刻。2008年北京奥运会期间，天安门广场成为庆祝活动的重要场地；2015年，中国人民抗日战争暨世界反法西斯战争胜利70周年阅兵在此举行；2019年，庆祝中华人民共和国成立70周年大会和阅兵式更是在天安门广场盛大举行。\n",
       "\n",
       "**六、建筑艺术与文化内涵**\n",
       "\n",
       "天安门不仅是政治象征，也是建筑艺术的瑰宝。城楼为重檐歇山顶，覆盖黄色琉璃瓦，在阳光下熠熠生辉。屋檐下悬挂着巨大的毛泽东画像，两侧分别写着“中华人民共和国万岁”和“世界人民大团结万岁”的巨幅标语。城楼前矗立着华表、石狮等传统建筑元素，其中华表上的石犼面向宫外，被称为“望君归”，寓意期盼帝王及时回宫处理朝政。\n",
       "\n",
       "金水桥横跨在天安门前的外金水河上，七座汉白玉石桥中，中间最宽阔的为“御路桥”，专供皇帝通行；两侧的“王公桥”供宗室王公行走；“品级桥”则允许三品以上官员通行。这种严格的身份等级划分，体现了封建礼制的严谨。\n",
       "\n",
       "如今的天安门广场，北起天安门，南至正阳门，东邻国家博物馆，西接人民大会堂，中央矗立着人民英雄纪念碑和毛主席纪念堂，整体布局气势恢宏，既保留了传统中轴线的对称美，又融入了现代城市规划的理念。\n",
       "\n",
       "**结语**\n",
       "\n",
       "六百年风雨沧桑，天安门从皇权象征蜕变为人民广场，见证了中国从封建社会到现代国家的艰难转型。它目睹过帝国盛衰、外患内乱，也亲历了民族独立、国家富强。如今，每天清晨在这里举行的升旗仪式吸引着数以万计的民众，那面与太阳同时升起的五星红旗，象征着古老民族的新生。\n",
       "\n",
       "作为联合国教科文组织列入的世界文化遗产，天安门已不仅仅是一座古建筑，更是承载民族记忆、凝聚国家认同的精神图腾。它的故事还在继续书写，正如滚滚向前的历史长河，永远奔流不息。"
      ],
      "text/plain": [
       "<IPython.core.display.Markdown object>"
      ]
     },
     "execution_count": 51,
     "metadata": {},
     "output_type": "execute_result"
    }
   ],
   "source": [
    "#### YOUR TASK ####\n",
    "# prepare and call the service using a chinese prompt\n",
    "client = OpenAI(api_key=openai_api_key, base_url=openai_base_url)\n",
    "model=\"deepseek-ai/DeepSeek-V3.2-Exp\"\n",
    "response = client.chat.completions.create(\n",
    "  model=model,\n",
    "  messages=[\n",
    "    {\"role\": \"user\", \"content\": prompt}\n",
    "  ]\n",
    ")\n",
    "IPython.display.Markdown(response.choices[0].message.content)"
   ]
  },
  {
   "cell_type": "code",
   "execution_count": null,
   "metadata": {},
   "outputs": [],
   "source": []
  }
 ],
 "metadata": {
  "kernelspec": {
   "display_name": "Python 3",
   "language": "python",
   "name": "python3"
  },
  "language_info": {
   "codemirror_mode": {
    "name": "ipython",
    "version": 3
   },
   "file_extension": ".py",
   "mimetype": "text/x-python",
   "name": "python",
   "nbconvert_exporter": "python",
   "pygments_lexer": "ipython3",
   "version": "3.12.3"
  }
 },
 "nbformat": 4,
 "nbformat_minor": 2
}
